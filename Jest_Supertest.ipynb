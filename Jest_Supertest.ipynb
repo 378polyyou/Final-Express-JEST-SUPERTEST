{
  "cells": [
    {
      "cell_type": "markdown",
      "metadata": {
        "id": "b7LrNzzJyEPf"
      },
      "source": [
        "Step 1: Install Required Packages\n",
        "First, navigate to your project directory and install the necessary packages:"
      ]
    },
    {
      "cell_type": "code",
      "execution_count": null,
      "metadata": {
        "id": "lVDiMGDGxxP0"
      },
      "outputs": [],
      "source": [
        "npm install --save-dev jest ts-jest @types/jest supertest @types/supertest typescript"
      ]
    },
    {
      "cell_type": "markdown",
      "metadata": {
        "id": "DSEoyCDqyNL-"
      },
      "source": [
        "Step 2: Initialize TypeScript\n",
        "If you haven’t already, create a tsconfig.json file:"
      ]
    },
    {
      "cell_type": "code",
      "execution_count": null,
      "metadata": {
        "id": "RMi5Pci-ySNA"
      },
      "outputs": [],
      "source": [
        "npx tsc --init"
      ]
    },
    {
      "cell_type": "markdown",
      "metadata": {
        "id": "hCXWkG4byURO"
      },
      "source": [
        "You can customize this file, but here's a basic setup:"
      ]
    },
    {
      "cell_type": "code",
      "execution_count": null,
      "metadata": {
        "id": "9GfFFsAS2WFY"
      },
      "outputs": [],
      "source": [
        "{\n",
        "  \"compilerOptions\": {\n",
        "    \"target\": \"es6\",\n",
        "    \"module\": \"commonjs\",\n",
        "    \"outDir\": \"./dist\",\n",
        "    \"strict\": true,\n",
        "    \"esModuleInterop\": true,\n",
        "    \"skipLibCheck\": true,\n",
        "    \"forceConsistentCasingInFileNames\": true\n",
        "  },\n",
        "  \"include\": [\"src/**/*\"],\n",
        "  \"exclude\": [\"node_modules\"]\n",
        "}"
      ]
    },
    {
      "cell_type": "markdown",
      "metadata": {
        "id": "yKe95pZI2X0u"
      },
      "source": [
        "Step 3: Configure Jest\n",
        "Next, create a Jest configuration file. You can create jest.config.js in your project root with the following content:"
      ]
    },
    {
      "cell_type": "markdown",
      "metadata": {
        "id": "6DaTS7qM2aEe"
      },
      "source": [
        "module.exports = {\n",
        "  preset: 'ts-jest',\n",
        "  testEnvironment: 'node',\n",
        "  testPathIgnorePatterns: ['<rootDir>/dist/'],\n",
        "};"
      ]
    },
    {
      "cell_type": "code",
      "execution_count": null,
      "metadata": {
        "id": "ZIZYmdAFeYBj"
      },
      "outputs": [],
      "source": [
        "#  jest.config.js\n",
        "module.exports = {\n",
        "  preset: 'ts-jest',\n",
        "  testEnvironment: 'node',\n",
        "  roots: ['<rootDir>/src'],\n",
        "  testMatch: ['**/?(*.)+(spec|test).[tj]s?(x)'],\n",
        "  moduleFileExtensions: ['ts', 'js', 'json', 'node'],\n",
        "};"
      ]
    },
    {
      "cell_type": "markdown",
      "metadata": {
        "id": "LKgKWiWE2eHX"
      },
      "source": [
        "package.json"
      ]
    },
    {
      "cell_type": "code",
      "execution_count": null,
      "metadata": {
        "id": "Ngl7L7pH36mW"
      },
      "outputs": [],
      "source": [
        "  # package.json\n",
        "  \"scripts\": {\n",
        "    \"test:unit:ui\": \"majestic\",\n",
        "    \"test:unit:watchAll\": \"jest --watchAll --verbose\",\n",
        "    \"start\": \"npm run serve\",\n",
        "    \"dev\": \"concurrently \\\"npm run build\\\" \\\"npm run serve:watch\\\"\",\n",
        "    \"serve\": \"node dist/index.ts\",\n",
        "    \"serve:watch\": \"nodemon dist/index.js\",\n",
        "    \"build\": \"tsc\",\n",
        "    \"build:watch\": \"tsc -w\"\n",
        "  },"
      ]
    },
    {
      "cell_type": "code",
      "execution_count": null,
      "metadata": {
        "id": "0GT78o0g4Bk-"
      },
      "outputs": [],
      "source": [
        "npm run test:unit:uif"
      ]
    },
    {
      "cell_type": "code",
      "execution_count": null,
      "metadata": {
        "id": "yPE51Jyk4DAX"
      },
      "outputs": [],
      "source": [
        "npm run test:unit:watchAll"
      ]
    },
    {
      "cell_type": "markdown",
      "metadata": {
        "id": "4hDrojzheQxi"
      },
      "source": []
    },
    {
      "cell_type": "markdown",
      "metadata": {
        "id": "6EBJ0FtC4NUu"
      },
      "source": [
        "Test Suites: 1 passed, 1 total\n",
        "\n",
        " PASS  src/__tests__/index.test.ts\n",
        "  Sanity test\n",
        "   - √ 1 should equal 1 (5 ms)\n",
        "\n",
        "FAIL  src/__tests__/product.router.test.ts\n",
        "  - Product Router\n",
        "\n",
        "    - √ should get all products (31 ms)\n",
        "    - × should delete a product by ID (7 ms)\n",
        "    - × should handle invalid ID format in delete request (4 ms)\n",
        "    - × should insert a new product (19 ms)\n",
        "    - × should handle invalid input data in insert request (4 ms)\n",
        "    - × should update an existing product by ID (3 ms)\n",
        "    - × should handle invalid input data in update request (3 ms)\n",
        "\n",
        "  ● Product Router › should delete a product by ID\n",
        "\n",
        "   - expect(received).toBe(expected) // Object.is equality\n",
        "\n",
        "   - Expected: 204\n",
        "    Received: 404\n",
        "\n",
        "      57 |   it(\"should delete a product by ID\", async () => {\n",
        "      58 |     const response = await request(app).delete(\"/products/1\");\n",
        "    > 59 |     expect(response.status).toBe(204); // Updated to 204 No Content\n",
        "         |                             ^\n",
        "      60 |   });\n",
        "      61 |\n",
        "      62 |   it(\"should handle invalid ID format in delete request\", async () => {\n",
        "\n",
        "      at src/__tests__/product.router.test.ts:59:29\n",
        "      at fulfilled (src/__tests__/product.router.test.ts:5:58)\n",
        "\n",
        "  ● Product Router › should handle invalid ID format in delete request\n",
        "\n",
        "    - expect(received).toBe(expected) // Object.is equality\n",
        "\n",
        "   - Expected: 400\n",
        "    Received: 404\n",
        "\n",
        "      62 |   it(\"should handle invalid ID format in delete request\", async () => {\n",
        "      63 |     const response = await request(app).delete(\"/products/invalid-id\");\n",
        "    > 64 |     expect(response.status).toBe(400);\n",
        "         |                             ^\n",
        "      65 |     expect(response.body).toEqual({ message: \"Invalid ID format\" });\n",
        "      66 |   });\n",
        "      67 |\n",
        "\n",
        "      at src/__tests__/product.router.test.ts:64:29\n",
        "      at fulfilled (src/__tests__/product.router.test.ts:5:58)\n",
        "\n",
        "  ● Product Router › should insert a new product\n",
        "\n",
        "    - expect(received).toBe(expected) // Object.is equality\n",
        "\n",
        "    - Expected: 201\n",
        "    Received: 404\n",
        "\n",
        "      69 |     const newProduct = { id: 2, name: \"New Product\", price: 20 };\n",
        "      70 |     const response = await request(app).post(\"/products\").send(newProduct);\n",
        "    > 71 |     expect(response.status).toBe(201);\n",
        "         |                             ^\n",
        "      72 |     expect(response.body).toEqual({ message: \"Product created successfully\" });\n",
        "      73 |   });\n",
        "      74 |\n",
        "\n",
        "      at src/__tests__/product.router.test.ts:71:29\n",
        "      at fulfilled (src/__tests__/product.router.test.ts:5:58)\n",
        "\n",
        "  ● Product Router › should handle invalid input data in insert request\n",
        "\n",
        "    - expect(received).toBe(expected) // Object.is equality\n",
        "\n",
        "    - Expected: 400\n",
        "    Received: 404\n",
        "\n",
        "      80 |     };\n",
        "      81 |     const response = await request(app).post(\"/products\").send(invalidProduct);\n",
        "    > 82 |     expect(response.status).toBe(400);\n",
        "         |                             ^\n",
        "      83 |     expect(response.body).toEqual({ message: \"Invalid input data\" });\n",
        "      84 |   });\n",
        "      85 |\n",
        "\n",
        "      at src/__tests__/product.router.test.ts:82:29\n",
        "      at fulfilled (src/__tests__/product.router.test.ts:5:58)\n",
        "\n",
        "  ● Product Router › should update an existing product by ID\n",
        "\n",
        "    - expect(received).toBe(expected) // Object.is equality\n",
        "\n",
        "    - Expected: 200\n",
        "    Received: 404\n",
        "\n",
        "      87 |     const updatedProduct = { name: \"Updated Product\", price: 25 };\n",
        "      88 |     const response = await request(app).put(\"/products/1\").send(updatedProduct);\n",
        "    > 89 |     expect(response.status).toBe(200);\n",
        "         |                             ^\n",
        "      90 |     expect(response.body).toEqual({\n",
        "      91 |       message: \"Product with ID 1 updated successfully\",\n",
        "      92 |     });\n",
        "\n",
        "      at src/__tests__/product.router.test.ts:89:29\n",
        "      at fulfilled (src/__tests__/product.router.test.ts:5:58)\n",
        "\n",
        "    - expect(received).toBe(expected) // Object.is equality\n",
        "\n",
        "    - Expected: 400\n",
        "    Received: 404\n",
        "       97 |     const response = await request(app).put(\"/products/1\").send(invalidUpdate);\n",
        "    >  98 |     expect(response.status).toBe(400);\n",
        "          |                             ^\n",
        "       97 |     const response = await request(app).put(\"/products/1\").send(invalidUpdate);\n",
        "    >  98 |     expect(response.status).toBe(400);\n",
        "          |                             ^\n",
        "       99 |     expect(response.body).toEqual({ message: \"Invalid input data\" });\n",
        "      100 |   });\n",
        "      101 | });\n",
        "    >  98 |     expect(response.status).toBe(400);\n",
        "          |                             ^\n",
        "       99 |     expect(response.body).toEqual({ message: \"Invalid input data\" });\n",
        "      100 |   });\n",
        "      100 |   });\n",
        "      101 | });\n",
        "\n",
        "      at src/__tests__/product.router.test.ts:98:29\n",
        "      101 | });\n",
        "\n",
        "      at src/__tests__/product.router.test.ts:98:29\n",
        "      at fulfilled (src/__tests__/product.router.test.ts:5:58)\n",
        "\n",
        "      at fulfilled (src/__tests__/product.router.test.ts:5:58)\n",
        "\n",
        "- Test Suites: 1 failed, 1 passed, 2 total\n",
        "- Test Suites: 1 failed, 1 passed, 2 total\n",
        "- Tests:       6 failed, 2 passed, 8 total\n",
        "- Snapshots:   0 total\n",
        "- Tests:       6 failed, 2 passed, 8 total\n",
        "- Snapshots:   0 total\n",
        "- Time:        2.084 s, estimated 4 s\n",
        "- Time:        2.084 s, estimated 4 s\n",
        "- Ran all test suites.\n",
        "- Ran all test suites."
      ]
    },
    {
      "cell_type": "markdown",
      "metadata": {
        "id": "UT5py0mxtTzU"
      },
      "source": [
        "**การแก้ไขหลังจากทดสอบ**"
      ]
    },
    {
      "cell_type": "code",
      "execution_count": null,
      "metadata": {
        "id": "7mtJR1ri5gA4"
      },
      "outputs": [],
      "source": [
        "# rount/product.route.ts\n",
        "import { Router } from \"express\";\n",
        "import productController from \"../controller/product.controller\"; // Assuming the controller file is located in the parent directory of the current file\n",
        "\n",
        "const productRouter = Router();\n",
        "\n",
        "// Endpoint to get all products\n",
        "productRouter.get(\"/\", productController.getAll);\n",
        "\n",
        "// Endpoint to delete a product by ID\n",
        "productRouter.delete(\"/:id\", productController.deleteById);\n",
        "\n",
        "// Endpoint to insert a new product\n",
        "productRouter.post(\"/\", productController.insertProduct);\n",
        "\n",
        "// Endpoint to update an existing product by ID\n",
        "productRouter.put(\"/:id\", productController.updateProduct);\n",
        "\n",
        "export default productRouter;"
      ]
    },
    {
      "cell_type": "code",
      "execution_count": null,
      "metadata": {
        "id": "r0ohbFiRthd8"
      },
      "outputs": [],
      "source": [
        "# controller/product.controller.ts\n",
        "import { Request, Response } from \"express\";\n",
        "import product from \"../db/product\";\n",
        "\n",
        "const getAll = (req: Request, res: Response) => {\n",
        "  product\n",
        "    .selectAll() //--db/product.ts\n",
        "    .then((products) => {\n",
        "      // .then for async call\n",
        "      res.status(200).send({\n",
        "        message: \"OK\",\n",
        "        result: products,\n",
        "      });\n",
        "    })\n",
        "    .catch((err) => {\n",
        "      res.status(500).send({\n",
        "        message: \"DATABASE ERROR\",\n",
        "        error: err.code,\n",
        "      });\n",
        "    });\n",
        "};\n",
        "// // Handler to delete a product by ID\n",
        "// const deleteById = async (req: Request, res: Response) => {\n",
        "//   const id = parseInt(req.params.id, 10);\n",
        "\n",
        "//   if (isNaN(id)) {\n",
        "//     return res.status(400).send({\n",
        "//       message: \"Invalid ID format\",\n",
        "//     });\n",
        "//   }\n",
        "\n",
        "//   try {\n",
        "//     await product.deleteProductById(id);\n",
        "//     res.status(204).send(); // No Content\n",
        "//   } catch (err) {\n",
        "//     console.error(`Error deleting product with ID ${id}:`, err); // Log the full error\n",
        "//     res.status(500).send({\n",
        "//       message: \"DATABASE ERROR\",\n",
        "//       error: (err as Error).message || \"Unknown error\", // Ensure error.message is used safely\n",
        "//     });\n",
        "//   }\n",
        "// };\n",
        "\n",
        "// // Handler to insert a new product\n",
        "// const insertProduct = async (req: Request, res: Response) => {\n",
        "//   const { id, name, price } = req.body;\n",
        "\n",
        "//   // Basic validation\n",
        "//   if (\n",
        "//     typeof id !== \"number\" ||\n",
        "//     typeof name !== \"string\" ||\n",
        "//     typeof price !== \"number\"\n",
        "//   ) {\n",
        "//     return res.status(400).send({\n",
        "//       message: \"Invalid input data\",\n",
        "//     });\n",
        "//   }\n",
        "\n",
        "//   try {\n",
        "//     await product.insertProduct(id, name, price);\n",
        "//     res.status(201).send({\n",
        "//       message: \"Product created successfully\",\n",
        "//     });\n",
        "//   } catch (err) {\n",
        "//     console.error(\"Error inserting product:\", err); // Log the full error\n",
        "//     res.status(500).send({\n",
        "//       message: \"DATABASE ERROR\",\n",
        "//       error: (err as Error).message || \"Unknown error\", // Ensure error.message is used safely\n",
        "//     });\n",
        "//   }\n",
        "// };\n",
        "\n",
        "// // Handler to update an existing product by ID\n",
        "// const updateProduct = async (req: Request, res: Response) => {\n",
        "//   const id = parseInt(req.params.id, 10);\n",
        "//   const { name, price } = req.body;\n",
        "\n",
        "//   // Basic validation\n",
        "//   if (isNaN(id) || typeof name !== \"string\" || typeof price !== \"number\") {\n",
        "//     return res.status(400).send({\n",
        "//       message: \"Invalid input data\",\n",
        "//     });\n",
        "//   }\n",
        "\n",
        "//   try {\n",
        "//     await product.updateProduct(id, name, price);\n",
        "//     res.status(200).send({\n",
        "//       message: `Product with ID ${id} updated successfully`,\n",
        "//     });\n",
        "//   } catch (err) {\n",
        "//     console.error(`Error updating product with ID ${id}:`, err); // Log the full error\n",
        "//     res.status(500).send({\n",
        "//       message: \"DATABASE ERROR\",\n",
        "//       error: (err as Error).message || \"Unknown error\", // Ensure error.message is used safely\n",
        "//     });\n",
        "//   }\n",
        "// };\n",
        "\n",
        "export default { getAll };\n",
        "// export default { getAll, deleteById, insertProduct, updateProduct };\n"
      ]
    },
    {
      "cell_type": "code",
      "execution_count": null,
      "metadata": {
        "id": "pJPqf6Orwax8"
      },
      "outputs": [],
      "source": [
        "# db/product.ts\n",
        "import { RowDataPacket, ResultSetHeader } from \"mysql2\"; // Import type for rows returned from queries\n",
        "import { promisePool } from \"../config/db\";\n",
        "\n",
        "const selectAll = async () => {\n",
        "  try {\n",
        "    const [rows]: [RowDataPacket[], any] = await promisePool.query(\n",
        "      \"SELECT * FROM product\"\n",
        "    );\n",
        "    return rows;\n",
        "  } catch (err) {\n",
        "    console.error(\"Database query error:\", err);\n",
        "  }\n",
        "};\n",
        "// // Function to delete a product by ID\n",
        "// const deleteProductById = async (id: number): Promise<void> => {\n",
        "//   try {\n",
        "//     console.log(`Attempting to delete product with ID: ${id}`);\n",
        "//     const [result] = await promisePool.query<ResultSetHeader>(\n",
        "//       \"DELETE FROM product WHERE id = ?\",\n",
        "//       [id]\n",
        "//     );\n",
        "//     console.log(\"Delete result:\", result);\n",
        "//     // Optionally, you can check if the affectedRows property is 0 to handle the case where no rows were deleted\n",
        "//     if ((result as ResultSetHeader).affectedRows === 0) {\n",
        "//       console.warn(`No product found with ID: ${id}`);\n",
        "//     }\n",
        "//   } catch (err) {\n",
        "//     console.error(\"Database deletion error:\", err);\n",
        "//     throw err; // It's good practice to throw the error after logging it\n",
        "//   }\n",
        "// };\n",
        "\n",
        "// // Function to insert a new product\n",
        "// const insertProduct = async (\n",
        "//   id: number,\n",
        "//   name: string,\n",
        "//   price: number\n",
        "// ): Promise<void> => {\n",
        "//   try {\n",
        "//     const [result] = await promisePool.query<ResultSetHeader>(\n",
        "//       \"INSERT INTO product (id, name, price) VALUES (?, ?, ?)\",\n",
        "//       [id, name, price]\n",
        "//     );\n",
        "//     console.log(\"Insert result:\", result);\n",
        "//     if ((result as ResultSetHeader).affectedRows === 0) {\n",
        "//       console.warn(\"Insert operation did not affect any rows\");\n",
        "//     }\n",
        "//   } catch (err) {\n",
        "//     console.error(\"Database insertion error:\", err);\n",
        "//     throw err;\n",
        "//   }\n",
        "// };\n",
        "\n",
        "// // Function to update a product by ID\n",
        "// const updateProduct = async (\n",
        "//   id: number,\n",
        "//   name: string,\n",
        "//   price: number\n",
        "// ): Promise<void> => {\n",
        "//   try {\n",
        "//     const [result] = await promisePool.query<ResultSetHeader>(\n",
        "//       \"UPDATE product SET name = ?, price = ? WHERE id = ?\",\n",
        "//       [name, price, id]\n",
        "//     );\n",
        "//     console.log(\"Update result:\", result);\n",
        "//     if ((result as ResultSetHeader).affectedRows === 0) {\n",
        "//       console.warn(`No product found with ID: ${id}`);\n",
        "//     }\n",
        "//   } catch (err) {\n",
        "//     console.error(\"Database update error:\", err);\n",
        "//     throw err;\n",
        "//   }\n",
        "// };\n",
        "\n",
        "// export default { selectAll, deleteProductById, insertProduct, updateProduct };\n",
        "export default { selectAll };\n"
      ]
    }
  ],
  "metadata": {
    "colab": {
      "provenance": []
    },
    "kernelspec": {
      "display_name": "Python 3",
      "name": "python3"
    },
    "language_info": {
      "name": "python"
    }
  },
  "nbformat": 4,
  "nbformat_minor": 0
}
